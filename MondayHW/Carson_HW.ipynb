{
 "cells": [
  {
   "cell_type": "code",
   "execution_count": 3,
   "metadata": {},
   "outputs": [],
   "source": [
    "import numpy as np\n",
    "import math\n",
    "import matplotlib.pyplot as plt\n",
    "import pandas as pd\n",
    "import yfinance as yf\n",
    "from sklearn.linear_model import LinearRegression\n",
    "from sklearn.metrics import mean_squared_error"
   ]
  },
  {
   "cell_type": "code",
   "execution_count": 4,
   "metadata": {},
   "outputs": [
    {
     "name": "stdout",
     "output_type": "stream",
     "text": [
      "[*********************100%***********************]  1 of 1 completed\n"
     ]
    },
    {
     "data": {
      "text/plain": [
       "<AxesSubplot:title={'center':\"VOO's Stock price\"}, xlabel='Date'>"
      ]
     },
     "execution_count": 4,
     "metadata": {},
     "output_type": "execute_result"
    },
    {
     "data": {
      "image/png": "[encoded data removed]",
      "text/plain": [
       "<Figure size 432x288 with 1 Axes>"
      ]
     },
     "metadata": {
      "needs_background": "light"
     },
     "output_type": "display_data"
    }
   ],
   "source": [
    "#Plotting Apple's Price over 5 years\n",
    "ticker = yf.Ticker('VOO')\n",
    "voo = yf.download('VOO')\n",
    "voo_df = ticker.history(period=\"5y\")\n",
    "voo_df['Close'].plot(title=\"VOO's Stock price\")"
   ]
  },
  {
   "cell_type": "code",
   "execution_count": 5,
   "metadata": {},
   "outputs": [
    {
     "data": {
      "text/html": [
       "<div>\n",
       "<style scoped>\n",
       "    .dataframe tbody tr th:only-of-type {\n",
       "        vertical-align: middle;\n",
       "    }\n",
       "\n",
       "    .dataframe tbody tr th {\n",
       "        vertical-align: top;\n",
       "    }\n",
       "\n",
       "    .dataframe thead th {\n",
       "        text-align: right;\n",
       "    }\n",
       "</style>\n",
       "<table border=\"1\" class=\"dataframe\">\n",
       "  <thead>\n",
       "    <tr style=\"text-align: right;\">\n",
       "      <th></th>\n",
       "      <th>Open</th>\n",
       "      <th>High</th>\n",
       "      <th>Low</th>\n",
       "      <th>Close</th>\n",
       "      <th>Volume</th>\n",
       "      <th>Dividends</th>\n",
       "      <th>Stock Splits</th>\n",
       "      <th>Capital Gains</th>\n",
       "    </tr>\n",
       "    <tr>\n",
       "      <th>Date</th>\n",
       "      <th></th>\n",
       "      <th></th>\n",
       "      <th></th>\n",
       "      <th></th>\n",
       "      <th></th>\n",
       "      <th></th>\n",
       "      <th></th>\n",
       "      <th></th>\n",
       "    </tr>\n",
       "  </thead>\n",
       "  <tbody>\n",
       "    <tr>\n",
       "      <th>2022-11-02 00:00:00-04:00</th>\n",
       "      <td>351.098598</td>\n",
       "      <td>355.427871</td>\n",
       "      <td>342.768495</td>\n",
       "      <td>342.858063</td>\n",
       "      <td>5022500</td>\n",
       "      <td>0.0</td>\n",
       "      <td>0.0</td>\n",
       "      <td>0.0</td>\n",
       "    </tr>\n",
       "    <tr>\n",
       "      <th>2022-11-03 00:00:00-04:00</th>\n",
       "      <td>339.713145</td>\n",
       "      <td>342.171374</td>\n",
       "      <td>337.284772</td>\n",
       "      <td>339.205566</td>\n",
       "      <td>4534800</td>\n",
       "      <td>0.0</td>\n",
       "      <td>0.0</td>\n",
       "      <td>0.0</td>\n",
       "    </tr>\n",
       "    <tr>\n",
       "      <th>2022-11-04 00:00:00-04:00</th>\n",
       "      <td>344.758968</td>\n",
       "      <td>346.361280</td>\n",
       "      <td>338.379515</td>\n",
       "      <td>344.171783</td>\n",
       "      <td>3655400</td>\n",
       "      <td>0.0</td>\n",
       "      <td>0.0</td>\n",
       "      <td>0.0</td>\n",
       "    </tr>\n",
       "    <tr>\n",
       "      <th>2022-11-07 00:00:00-05:00</th>\n",
       "      <td>345.405879</td>\n",
       "      <td>348.043243</td>\n",
       "      <td>343.455229</td>\n",
       "      <td>347.475983</td>\n",
       "      <td>3316600</td>\n",
       "      <td>0.0</td>\n",
       "      <td>0.0</td>\n",
       "      <td>0.0</td>\n",
       "    </tr>\n",
       "    <tr>\n",
       "      <th>2022-11-08 00:00:00-05:00</th>\n",
       "      <td>348.540852</td>\n",
       "      <td>352.183411</td>\n",
       "      <td>345.425765</td>\n",
       "      <td>349.366913</td>\n",
       "      <td>3237200</td>\n",
       "      <td>0.0</td>\n",
       "      <td>0.0</td>\n",
       "      <td>0.0</td>\n",
       "    </tr>\n",
       "  </tbody>\n",
       "</table>\n",
       "</div>"
      ],
      "text/plain": [
       "                                 Open        High         Low       Close  \\\n",
       "Date                                                                        \n",
       "2022-11-02 00:00:00-04:00  351.098598  355.427871  342.768495  342.858063   \n",
       "2022-11-03 00:00:00-04:00  339.713145  342.171374  337.284772  339.205566   \n",
       "2022-11-04 00:00:00-04:00  344.758968  346.361280  338.379515  344.171783   \n",
       "2022-11-07 00:00:00-05:00  345.405879  348.043243  343.455229  347.475983   \n",
       "2022-11-08 00:00:00-05:00  348.540852  352.183411  345.425765  349.366913   \n",
       "\n",
       "                            Volume  Dividends  Stock Splits  Capital Gains  \n",
       "Date                                                                        \n",
       "2022-11-02 00:00:00-04:00  5022500        0.0           0.0            0.0  \n",
       "2022-11-03 00:00:00-04:00  4534800        0.0           0.0            0.0  \n",
       "2022-11-04 00:00:00-04:00  3655400        0.0           0.0            0.0  \n",
       "2022-11-07 00:00:00-05:00  3316600        0.0           0.0            0.0  \n",
       "2022-11-08 00:00:00-05:00  3237200        0.0           0.0            0.0  "
      ]
     },
     "execution_count": 5,
     "metadata": {},
     "output_type": "execute_result"
    }
   ],
   "source": [
    "voo_df = ticker.history(period=\"60d\")\n",
    "voo_df.head()"
   ]
  },
  {
   "cell_type": "code",
   "execution_count": 6,
   "metadata": {},
   "outputs": [
    {
     "name": "stdout",
     "output_type": "stream",
     "text": [
      "[350.48310927 345.04846031 350.78967565 359.79101703 360.28023516\n",
      " 369.16080296]\n",
      "[-7.25654140e-01  1.12498752e+00  5.62666825e-01 -1.50039725e-07\n",
      " -2.61508273e-01  0.00000000e+00  0.00000000e+00]\n",
      "Date\n",
      "2022-11-02 00:00:00-04:00    342.858063\n",
      "2022-11-09 00:00:00-05:00    342.231079\n",
      "2022-12-23 00:00:00-05:00    351.869995\n",
      "2023-01-09 00:00:00-05:00    356.329987\n",
      "2022-11-21 00:00:00-05:00    360.981262\n",
      "2023-01-23 00:00:00-05:00    368.140015\n",
      "Name: Close, dtype: float64\n"
     ]
    }
   ],
   "source": [
    "\n",
    "y = voo_df[\"Close\"]\n",
    "x = voo_df.drop( labels=[\"Close\"], axis = 1, inplace=False)\n",
    "\n",
    "#\n",
    "\n",
    "#splitting the data into training and test sets\n",
    "from sklearn.model_selection import train_test_split\n",
    "x_train, x_test, y_train, y_test = train_test_split(x, y, test_size = 0.1, random_state = 42)\n",
    "\n",
    "#creating the model and fitting it to the data\n",
    "regressor = LinearRegression()\n",
    "regressor.fit(x_train, y_train)\n",
    "\n",
    "\n",
    "#predicting the value of Apple's stock\n",
    "voo_stock_prediction = regressor.predict(x_test)\n",
    "\n",
    "#printing the result\n",
    "print(voo_stock_prediction)\n",
    "print(regressor.coef_)\n",
    "print(y_test)\n"
   ]
  },
  {
   "cell_type": "code",
   "execution_count": 7,
   "metadata": {},
   "outputs": [
    {
     "name": "stdout",
     "output_type": "stream",
     "text": [
      "It is a good Idea to buy apple now\n",
      "3.6687473135868705\n"
     ]
    }
   ],
   "source": [
    "#Root-Mean-Squared error\n",
    "rmse = math.sqrt(mean_squared_error(y_test,voo_stock_prediction))\n",
    "if regressor.coef_[1]>0:\n",
    "    print(\"It is a good Idea to buy apple now\")\n",
    "else:\n",
    "    print(\"It is currently not a good idea to buy apple\")\n",
    "\n",
    "print(rmse)\n",
    "\n"
   ]
  }
 ],
 "metadata": {
  "kernelspec": {
   "display_name": "Python 3",
   "language": "python",
   "name": "python3"
  },
  "language_info": {
   "codemirror_mode": {
    "name": "ipython",
    "version": 3
   },
   "file_extension": ".py",
   "mimetype": "text/x-python",
   "name": "python",
   "nbconvert_exporter": "python",
   "pygments_lexer": "ipython3",
   "version": "3.10.0"
  },
  "orig_nbformat": 4,
  "vscode": {
   "interpreter": {
    "hash": "aee8b7b246df8f9039afb4144a1f6fd8d2ca17a180786b69acc140d282b71a49"
   }
  }
 },
 "nbformat": 4,
 "nbformat_minor": 2
}
