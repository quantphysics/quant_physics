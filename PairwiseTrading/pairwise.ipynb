{
 "cells": [
  {
   "attachments": {},
   "cell_type": "markdown",
   "metadata": {},
   "source": [
    "In this Jupyter notebook we created an algorithm that takes a set of public securities of our choosing and finds correlations or cointegrations between them. Using this, we then mark buy or sell signals accordingly allowing us to profit using pairwise trading.  "
   ]
  },
  {
   "cell_type": "code",
   "execution_count": 19,
   "metadata": {},
   "outputs": [],
   "source": [
    "#imports\n",
    "import numpy as np\n",
    "import pandas as pd\n",
    "import statsmodels\n",
    "import statsmodels.api as sm\n",
    "import yfinance as yf\n",
    "from statsmodels.tsa.stattools import coint, adfuller\n",
    "from pandas_datareader import data as pdr\n",
    "pd.core.common.is_list_like = pd.api.types.is_list_like\n",
    "import datetime\n",
    "\n",
    "import matplotlib.pyplot as plt\n",
    "import seaborn as sns; sns.set(style=\"whitegrid\")"
   ]
  },
  {
   "attachments": {},
   "cell_type": "markdown",
   "metadata": {},
   "source": [
    "Area to choose what Stocks to track:"
   ]
  },
  {
   "cell_type": "code",
   "execution_count": 6,
   "metadata": {},
   "outputs": [
    {
     "name": "stdout",
     "output_type": "stream",
     "text": [
      "[*********************100%***********************]  11 of 11 completed\n"
     ]
    },
    {
     "data": {
      "text/html": [
       "<div>\n",
       "<style scoped>\n",
       "    .dataframe tbody tr th:only-of-type {\n",
       "        vertical-align: middle;\n",
       "    }\n",
       "\n",
       "    .dataframe tbody tr th {\n",
       "        vertical-align: top;\n",
       "    }\n",
       "\n",
       "    .dataframe thead th {\n",
       "        text-align: right;\n",
       "    }\n",
       "</style>\n",
       "<table border=\"1\" class=\"dataframe\">\n",
       "  <thead>\n",
       "    <tr style=\"text-align: right;\">\n",
       "      <th></th>\n",
       "      <th>AAPL</th>\n",
       "      <th>ADBE</th>\n",
       "      <th>AMD</th>\n",
       "      <th>EBAY</th>\n",
       "      <th>HPQ</th>\n",
       "      <th>IBM</th>\n",
       "      <th>JNPR</th>\n",
       "      <th>MSFT</th>\n",
       "      <th>ORCL</th>\n",
       "      <th>QCOM</th>\n",
       "      <th>SPY</th>\n",
       "    </tr>\n",
       "    <tr>\n",
       "      <th>Date</th>\n",
       "      <th></th>\n",
       "      <th></th>\n",
       "      <th></th>\n",
       "      <th></th>\n",
       "      <th></th>\n",
       "      <th></th>\n",
       "      <th></th>\n",
       "      <th></th>\n",
       "      <th></th>\n",
       "      <th></th>\n",
       "      <th></th>\n",
       "    </tr>\n",
       "  </thead>\n",
       "  <tbody>\n",
       "    <tr>\n",
       "      <th>2023-01-31</th>\n",
       "      <td>144.289993</td>\n",
       "      <td>370.339996</td>\n",
       "      <td>75.150002</td>\n",
       "      <td>49.500000</td>\n",
       "      <td>29.139999</td>\n",
       "      <td>134.729996</td>\n",
       "      <td>32.299999</td>\n",
       "      <td>247.809998</td>\n",
       "      <td>88.459999</td>\n",
       "      <td>133.210007</td>\n",
       "      <td>406.480011</td>\n",
       "    </tr>\n",
       "    <tr>\n",
       "      <th>2023-02-01</th>\n",
       "      <td>145.429993</td>\n",
       "      <td>383.920013</td>\n",
       "      <td>84.639999</td>\n",
       "      <td>50.400002</td>\n",
       "      <td>29.870001</td>\n",
       "      <td>135.089996</td>\n",
       "      <td>30.990000</td>\n",
       "      <td>252.750000</td>\n",
       "      <td>90.050003</td>\n",
       "      <td>138.460007</td>\n",
       "      <td>410.799988</td>\n",
       "    </tr>\n",
       "    <tr>\n",
       "      <th>2023-02-02</th>\n",
       "      <td>150.820007</td>\n",
       "      <td>392.230011</td>\n",
       "      <td>88.309998</td>\n",
       "      <td>51.660000</td>\n",
       "      <td>30.790001</td>\n",
       "      <td>136.389999</td>\n",
       "      <td>31.450001</td>\n",
       "      <td>264.600006</td>\n",
       "      <td>89.379997</td>\n",
       "      <td>135.850006</td>\n",
       "      <td>416.779999</td>\n",
       "    </tr>\n",
       "    <tr>\n",
       "      <th>2023-02-03</th>\n",
       "      <td>154.500000</td>\n",
       "      <td>379.329987</td>\n",
       "      <td>86.089996</td>\n",
       "      <td>50.660000</td>\n",
       "      <td>30.510000</td>\n",
       "      <td>136.940002</td>\n",
       "      <td>30.730000</td>\n",
       "      <td>258.350006</td>\n",
       "      <td>89.620003</td>\n",
       "      <td>135.020004</td>\n",
       "      <td>412.350006</td>\n",
       "    </tr>\n",
       "    <tr>\n",
       "      <th>2023-02-06</th>\n",
       "      <td>151.729996</td>\n",
       "      <td>375.230011</td>\n",
       "      <td>83.680000</td>\n",
       "      <td>49.980000</td>\n",
       "      <td>29.770000</td>\n",
       "      <td>136.179993</td>\n",
       "      <td>30.799999</td>\n",
       "      <td>256.769989</td>\n",
       "      <td>88.529999</td>\n",
       "      <td>132.929993</td>\n",
       "      <td>409.829987</td>\n",
       "    </tr>\n",
       "  </tbody>\n",
       "</table>\n",
       "</div>"
      ],
      "text/plain": [
       "                  AAPL        ADBE        AMD       EBAY        HPQ  \\\n",
       "Date                                                                  \n",
       "2023-01-31  144.289993  370.339996  75.150002  49.500000  29.139999   \n",
       "2023-02-01  145.429993  383.920013  84.639999  50.400002  29.870001   \n",
       "2023-02-02  150.820007  392.230011  88.309998  51.660000  30.790001   \n",
       "2023-02-03  154.500000  379.329987  86.089996  50.660000  30.510000   \n",
       "2023-02-06  151.729996  375.230011  83.680000  49.980000  29.770000   \n",
       "\n",
       "                   IBM       JNPR        MSFT       ORCL        QCOM  \\\n",
       "Date                                                                   \n",
       "2023-01-31  134.729996  32.299999  247.809998  88.459999  133.210007   \n",
       "2023-02-01  135.089996  30.990000  252.750000  90.050003  138.460007   \n",
       "2023-02-02  136.389999  31.450001  264.600006  89.379997  135.850006   \n",
       "2023-02-03  136.940002  30.730000  258.350006  89.620003  135.020004   \n",
       "2023-02-06  136.179993  30.799999  256.769989  88.529999  132.929993   \n",
       "\n",
       "                   SPY  \n",
       "Date                    \n",
       "2023-01-31  406.480011  \n",
       "2023-02-01  410.799988  \n",
       "2023-02-02  416.779999  \n",
       "2023-02-03  412.350006  \n",
       "2023-02-06  409.829987  "
      ]
     },
     "execution_count": 6,
     "metadata": {},
     "output_type": "execute_result"
    }
   ],
   "source": [
    "yf.pdr_override()\n",
    "start = datetime.datetime(2015, 1, 1)\n",
    "end = datetime.datetime.now()\n",
    "tickers = ['AAPL', 'ADBE', 'ORCL', 'EBAY', 'MSFT', 'QCOM', 'HPQ', 'JNPR', 'AMD', 'IBM', 'SPY']\n",
    "\n",
    "\n",
    "df = pdr.get_data_yahoo(tickers, start, end)['Close']\n",
    "df.tail()"
   ]
  },
  {
   "attachments": {},
   "cell_type": "markdown",
   "metadata": {},
   "source": [
    "First we need to test for stationarity using the Dickey-Fuller Test; we obviously only want to look at stocks that are not following stationarity."
   ]
  },
  {
   "cell_type": "code",
   "execution_count": null,
   "metadata": {},
   "outputs": [],
   "source": [
    "def stationarity_test(X, cutoff=0.01):\n",
    "    pvalue = adfuller(X)[1]\n",
    "    if pvalue < cutoff:\n",
    "        print('p-value = ' + str(pvalue) + ' The series ' + X.name +' is likely stationary.')\n",
    "    else:\n",
    "        print('p-value = ' + str(pvalue) + ' The series ' + X.name +' is likely non-stationary.')"
   ]
  },
  {
   "attachments": {},
   "cell_type": "markdown",
   "metadata": {},
   "source": [
    "This is to test if the Stationarity Test actually works:"
   ]
  },
  {
   "cell_type": "code",
   "execution_count": null,
   "metadata": {},
   "outputs": [
    {
     "name": "stdout",
     "output_type": "stream",
     "text": [
      "p-value = 0.3435141778242374 The series Close is likely non-stationary.\n"
     ]
    }
   ],
   "source": [
    "ticker = yf.Ticker('AAPL')\n",
    "Stock_history = ticker.history(period = \"60d\")\n",
    "Stock_close = Stock_history[\"Close\"]\n",
    "stationarity_test(Stock_close)"
   ]
  },
  {
   "attachments": {},
   "cell_type": "markdown",
   "metadata": {},
   "source": [
    "Test for Cointegration/Correlated Pairs:"
   ]
  },
  {
   "cell_type": "code",
   "execution_count": null,
   "metadata": {},
   "outputs": [],
   "source": [
    "def find_cointegrated_pairs(data):\n",
    "    n = data.shape[1]\n",
    "    score_matrix = np.zeros((n, n))\n",
    "    pvalue_matrix = np.ones((n, n))\n",
    "    keys = data.keys()\n",
    "    pairs = []\n",
    "    for i in range(n):\n",
    "        for j in range(i+1, n):\n",
    "            S1 = data[keys[i]]\n",
    "            S2 = data[keys[j]]\n",
    "            result = coint(S1, S2)\n",
    "            score = result[0]\n",
    "            pvalue = result[1]\n",
    "            score_matrix[i, j] = score\n",
    "            pvalue_matrix[i, j] = pvalue\n",
    "            if pvalue < 0.05:\n",
    "                pairs.append((keys[i], keys[j]))\n",
    "    return score_matrix, pvalue_matrix, pairs"
   ]
  }
 ],
 "metadata": {
  "kernelspec": {
   "display_name": "base",
   "language": "python",
   "name": "python3"
  },
  "language_info": {
   "codemirror_mode": {
    "name": "ipython",
    "version": 3
   },
   "file_extension": ".py",
   "mimetype": "text/x-python",
   "name": "python",
   "nbconvert_exporter": "python",
   "pygments_lexer": "ipython3",
   "version": "3.9.12"
  },
  "orig_nbformat": 4,
  "vscode": {
   "interpreter": {
    "hash": "62e98a0283692a44636a450e29e7c259bf8dda78633caf01026f07cf76ab36ca"
   }
  }
 },
 "nbformat": 4,
 "nbformat_minor": 2
}
