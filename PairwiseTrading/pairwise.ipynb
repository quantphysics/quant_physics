{
 "cells": [
  {
   "attachments": {},
   "cell_type": "markdown",
   "metadata": {},
   "source": [
    "In this Jupyter notebook we created an algorithm that takes a set of public securities of our choosing and finds correlations or cointegrations between them. Using this, we then mark buy or sell signals accordingly allowing us to profit using pairwise trading.  "
   ]
  },
  {
   "cell_type": "code",
   "execution_count": 18,
   "metadata": {},
   "outputs": [],
   "source": [
    "#imports\n",
    "import numpy as np\n",
    "import pandas as pd\n",
    "import statsmodels\n",
    "import statsmodels.api as sm\n",
    "import yfinance as yf\n",
    "from statsmodels.tsa.stattools import coint, adfuller\n",
    "from pandas_datareader import data as pdr\n",
    "pd.core.common.is_list_like = pd.api.types.is_list_like\n",
    "import datetime\n",
    "\n",
    "import matplotlib.pyplot as plt\n",
    "import seaborn as sns; sns.set(style=\"whitegrid\")"
   ]
  },
  {
   "attachments": {},
   "cell_type": "markdown",
   "metadata": {},
   "source": [
    "Area to choose what Stocks to track:"
   ]
  },
  {
   "cell_type": "code",
   "execution_count": 19,
   "metadata": {},
   "outputs": [
    {
     "name": "stdout",
     "output_type": "stream",
     "text": [
      "[*********************100%***********************]  11 of 11 completed\n"
     ]
    },
    {
     "data": {
      "text/html": [
       "<div>\n",
       "<style scoped>\n",
       "    .dataframe tbody tr th:only-of-type {\n",
       "        vertical-align: middle;\n",
       "    }\n",
       "\n",
       "    .dataframe tbody tr th {\n",
       "        vertical-align: top;\n",
       "    }\n",
       "\n",
       "    .dataframe thead th {\n",
       "        text-align: right;\n",
       "    }\n",
       "</style>\n",
       "<table border=\"1\" class=\"dataframe\">\n",
       "  <thead>\n",
       "    <tr style=\"text-align: right;\">\n",
       "      <th></th>\n",
       "      <th>AAPL</th>\n",
       "      <th>ADBE</th>\n",
       "      <th>AMD</th>\n",
       "      <th>EBAY</th>\n",
       "      <th>HPQ</th>\n",
       "      <th>IBM</th>\n",
       "      <th>JNPR</th>\n",
       "      <th>MSFT</th>\n",
       "      <th>ORCL</th>\n",
       "      <th>QCOM</th>\n",
       "      <th>VOO</th>\n",
       "    </tr>\n",
       "    <tr>\n",
       "      <th>Date</th>\n",
       "      <th></th>\n",
       "      <th></th>\n",
       "      <th></th>\n",
       "      <th></th>\n",
       "      <th></th>\n",
       "      <th></th>\n",
       "      <th></th>\n",
       "      <th></th>\n",
       "      <th></th>\n",
       "      <th></th>\n",
       "      <th></th>\n",
       "    </tr>\n",
       "  </thead>\n",
       "  <tbody>\n",
       "    <tr>\n",
       "      <th>2023-02-01</th>\n",
       "      <td>145.429993</td>\n",
       "      <td>383.920013</td>\n",
       "      <td>84.639999</td>\n",
       "      <td>50.400002</td>\n",
       "      <td>29.870001</td>\n",
       "      <td>135.089996</td>\n",
       "      <td>30.990000</td>\n",
       "      <td>252.750000</td>\n",
       "      <td>90.050003</td>\n",
       "      <td>138.460007</td>\n",
       "      <td>377.529999</td>\n",
       "    </tr>\n",
       "    <tr>\n",
       "      <th>2023-02-02</th>\n",
       "      <td>150.820007</td>\n",
       "      <td>392.230011</td>\n",
       "      <td>88.309998</td>\n",
       "      <td>51.660000</td>\n",
       "      <td>30.790001</td>\n",
       "      <td>136.389999</td>\n",
       "      <td>31.450001</td>\n",
       "      <td>264.600006</td>\n",
       "      <td>89.379997</td>\n",
       "      <td>135.850006</td>\n",
       "      <td>382.940002</td>\n",
       "    </tr>\n",
       "    <tr>\n",
       "      <th>2023-02-03</th>\n",
       "      <td>154.500000</td>\n",
       "      <td>379.329987</td>\n",
       "      <td>86.089996</td>\n",
       "      <td>50.660000</td>\n",
       "      <td>30.510000</td>\n",
       "      <td>136.940002</td>\n",
       "      <td>30.730000</td>\n",
       "      <td>258.350006</td>\n",
       "      <td>89.620003</td>\n",
       "      <td>135.020004</td>\n",
       "      <td>378.850006</td>\n",
       "    </tr>\n",
       "    <tr>\n",
       "      <th>2023-02-06</th>\n",
       "      <td>151.729996</td>\n",
       "      <td>375.230011</td>\n",
       "      <td>83.680000</td>\n",
       "      <td>49.980000</td>\n",
       "      <td>29.770000</td>\n",
       "      <td>136.179993</td>\n",
       "      <td>30.799999</td>\n",
       "      <td>256.769989</td>\n",
       "      <td>88.529999</td>\n",
       "      <td>132.929993</td>\n",
       "      <td>376.660004</td>\n",
       "    </tr>\n",
       "    <tr>\n",
       "      <th>2023-02-07</th>\n",
       "      <td>154.649994</td>\n",
       "      <td>383.820007</td>\n",
       "      <td>85.910004</td>\n",
       "      <td>50.169998</td>\n",
       "      <td>30.000000</td>\n",
       "      <td>135.839996</td>\n",
       "      <td>31.219999</td>\n",
       "      <td>267.559998</td>\n",
       "      <td>87.739998</td>\n",
       "      <td>136.630005</td>\n",
       "      <td>381.519989</td>\n",
       "    </tr>\n",
       "  </tbody>\n",
       "</table>\n",
       "</div>"
      ],
      "text/plain": [
       "                  AAPL        ADBE        AMD       EBAY        HPQ  \\\n",
       "Date                                                                  \n",
       "2023-02-01  145.429993  383.920013  84.639999  50.400002  29.870001   \n",
       "2023-02-02  150.820007  392.230011  88.309998  51.660000  30.790001   \n",
       "2023-02-03  154.500000  379.329987  86.089996  50.660000  30.510000   \n",
       "2023-02-06  151.729996  375.230011  83.680000  49.980000  29.770000   \n",
       "2023-02-07  154.649994  383.820007  85.910004  50.169998  30.000000   \n",
       "\n",
       "                   IBM       JNPR        MSFT       ORCL        QCOM  \\\n",
       "Date                                                                   \n",
       "2023-02-01  135.089996  30.990000  252.750000  90.050003  138.460007   \n",
       "2023-02-02  136.389999  31.450001  264.600006  89.379997  135.850006   \n",
       "2023-02-03  136.940002  30.730000  258.350006  89.620003  135.020004   \n",
       "2023-02-06  136.179993  30.799999  256.769989  88.529999  132.929993   \n",
       "2023-02-07  135.839996  31.219999  267.559998  87.739998  136.630005   \n",
       "\n",
       "                   VOO  \n",
       "Date                    \n",
       "2023-02-01  377.529999  \n",
       "2023-02-02  382.940002  \n",
       "2023-02-03  378.850006  \n",
       "2023-02-06  376.660004  \n",
       "2023-02-07  381.519989  "
      ]
     },
     "execution_count": 19,
     "metadata": {},
     "output_type": "execute_result"
    }
   ],
   "source": [
    "yf.pdr_override()\n",
    "start = datetime.datetime(2015, 1, 1)\n",
    "end = datetime.datetime.now()\n",
    "tickers = ['AAPL', 'ADBE', 'ORCL', 'EBAY', 'MSFT', 'QCOM', 'HPQ', 'JNPR', 'AMD', 'IBM', 'VOO']\n",
    "\n",
    "\n",
    "df = pdr.get_data_yahoo(tickers, start, end)['Close']\n",
    "df.tail()"
   ]
  },
  {
   "attachments": {},
   "cell_type": "markdown",
   "metadata": {},
   "source": [
    "First we need to test for stationarity using the Dickey-Fuller Test; we obviously only want to look at stocks that are not following stationarity."
   ]
  },
  {
   "cell_type": "code",
   "execution_count": 20,
   "metadata": {},
   "outputs": [],
   "source": [
    "def stationarity_test(X, cutoff=0.01):\n",
    "    pvalue = adfuller(X)[1]\n",
    "    if pvalue < cutoff:\n",
    "        print('p-value = ' + str(pvalue) + ' The series ' + X.name +' is likely stationary.')\n",
    "    else:\n",
    "        print('p-value = ' + str(pvalue) + ' The series ' + X.name +' is likely non-stationary.')"
   ]
  },
  {
   "attachments": {},
   "cell_type": "markdown",
   "metadata": {},
   "source": [
    "This is to test if the Stationarity Test actually works:"
   ]
  },
  {
   "cell_type": "code",
   "execution_count": 21,
   "metadata": {},
   "outputs": [
    {
     "name": "stdout",
     "output_type": "stream",
     "text": [
      "p-value = 0.2526287827678902 The series Close is likely non-stationary.\n"
     ]
    }
   ],
   "source": [
    "ticker = yf.Ticker('AAPL')\n",
    "Stock_history = ticker.history(period = \"60d\")\n",
    "Stock_close = Stock_history[\"Close\"]\n",
    "stationarity_test(Stock_close)"
   ]
  },
  {
   "attachments": {},
   "cell_type": "markdown",
   "metadata": {},
   "source": [
    "Test for Cointegration/Correlated Pairs:"
   ]
  },
  {
   "cell_type": "code",
   "execution_count": 22,
   "metadata": {},
   "outputs": [],
   "source": [
    "def find_cointegrated_pairs(data):\n",
    "    n = data.shape[1]\n",
    "    score_matrix = np.zeros((n, n))\n",
    "    pvalue_matrix = np.ones((n, n))\n",
    "    keys = data.keys()\n",
    "    pairs = []\n",
    "    for i in range(n):\n",
    "        for j in range(i+1, n):\n",
    "            S1 = data[keys[i]]\n",
    "            S2 = data[keys[j]]\n",
    "            result = coint(S1, S2)\n",
    "            score = result[0]\n",
    "            pvalue = result[1]\n",
    "            score_matrix[i, j] = score\n",
    "            pvalue_matrix[i, j] = pvalue\n",
    "            if pvalue < 0.05:\n",
    "                pairs.append((keys[i], keys[j]))\n",
    "    return score_matrix, pvalue_matrix, pairs"
   ]
  },
  {
   "attachments": {},
   "cell_type": "markdown",
   "metadata": {},
   "source": [
    "Now we will test the Cointegrated Pairs Function:"
   ]
  },
  {
   "cell_type": "code",
   "execution_count": 23,
   "metadata": {},
   "outputs": [
    {
     "data": {
      "text/plain": [
       "(array([[ 0.        , -0.98623748, -2.45807469, -1.56105958, -2.30826372,\n",
       "         -1.62809721, -1.14386441, -2.37864993, -2.78488955, -3.2352723 ,\n",
       "         -2.46111956],\n",
       "        [ 0.        ,  0.        , -1.8167117 , -2.6900279 , -1.97838715,\n",
       "         -2.74750113, -1.16837497, -1.2134532 , -1.43941683, -2.30006887,\n",
       "         -1.76646019],\n",
       "        [ 0.        ,  0.        ,  0.        , -2.88732371, -2.34027444,\n",
       "         -1.69288637, -1.26133615, -4.37405509, -2.66117514, -3.8565447 ,\n",
       "         -3.17221162],\n",
       "        [ 0.        ,  0.        ,  0.        ,  0.        , -2.65556434,\n",
       "         -2.32830266, -1.57513574, -2.57886047, -1.89949683, -3.04109481,\n",
       "         -2.53798769],\n",
       "        [ 0.        ,  0.        ,  0.        ,  0.        ,  0.        ,\n",
       "         -1.6517087 , -2.13354934, -2.4048132 , -2.55596398, -2.55865653,\n",
       "         -2.71623031],\n",
       "        [ 0.        ,  0.        ,  0.        ,  0.        ,  0.        ,\n",
       "          0.        , -3.31514299, -4.00341798, -3.75443526, -3.81321498,\n",
       "         -3.9793417 ],\n",
       "        [ 0.        ,  0.        ,  0.        ,  0.        ,  0.        ,\n",
       "          0.        ,  0.        , -3.31808985, -3.49558445, -3.31715178,\n",
       "         -3.28428335],\n",
       "        [ 0.        ,  0.        ,  0.        ,  0.        ,  0.        ,\n",
       "          0.        ,  0.        ,  0.        , -2.91248414, -3.21418009,\n",
       "         -2.75650553],\n",
       "        [ 0.        ,  0.        ,  0.        ,  0.        ,  0.        ,\n",
       "          0.        ,  0.        ,  0.        ,  0.        , -3.10789098,\n",
       "         -3.40907761],\n",
       "        [ 0.        ,  0.        ,  0.        ,  0.        ,  0.        ,\n",
       "          0.        ,  0.        ,  0.        ,  0.        ,  0.        ,\n",
       "         -3.07256575],\n",
       "        [ 0.        ,  0.        ,  0.        ,  0.        ,  0.        ,\n",
       "          0.        ,  0.        ,  0.        ,  0.        ,  0.        ,\n",
       "          0.        ]]),\n",
       " array([[1.        , 0.90542646, 0.29786558, 0.73704219, 0.36943659,\n",
       "         0.70888595, 0.87199384, 0.33503241, 0.17053988, 0.06422451,\n",
       "         0.29648028],\n",
       "        [1.        , 1.        , 0.62156966, 0.2031857 , 0.53979283,\n",
       "         0.18296108, 0.86598854, 0.85434292, 0.78368327, 0.37351842,\n",
       "         0.64586586],\n",
       "        [1.        , 1.        , 1.        , 0.13947402, 0.35363772,\n",
       "         0.68014619, 0.8410996 , 0.00195744, 0.213852  , 0.01137636,\n",
       "         0.07469918],\n",
       "        [1.        , 1.        , 1.        , 1.        , 0.2159657 ,\n",
       "         0.35951829, 0.7312696 , 0.24543839, 0.58026205, 0.10075738,\n",
       "         0.26257717],\n",
       "        [1.        , 1.        , 1.        , 1.        , 1.        ,\n",
       "         0.69857939, 0.45884759, 0.32257873, 0.25496025, 0.25382998,\n",
       "         0.19379566],\n",
       "        [1.        , 1.        , 1.        , 1.        , 1.        ,\n",
       "         1.        , 0.05268838, 0.00710113, 0.015573  , 0.01301579,\n",
       "         0.00768351],\n",
       "        [1.        , 1.        , 1.        , 1.        , 1.        ,\n",
       "         1.        , 1.        , 0.05229752, 0.03278883, 0.05242168,\n",
       "         0.05692691],\n",
       "        [1.        , 1.        , 1.        , 1.        , 1.        ,\n",
       "         1.        , 1.        , 1.        , 0.13250042, 0.06758826,\n",
       "         0.17991653],\n",
       "        [1.        , 1.        , 1.        , 1.        , 1.        ,\n",
       "         1.        , 1.        , 1.        , 1.        , 0.08672889,\n",
       "         0.04135218],\n",
       "        [1.        , 1.        , 1.        , 1.        , 1.        ,\n",
       "         1.        , 1.        , 1.        , 1.        , 1.        ,\n",
       "         0.09394694],\n",
       "        [1.        , 1.        , 1.        , 1.        , 1.        ,\n",
       "         1.        , 1.        , 1.        , 1.        , 1.        ,\n",
       "         1.        ]]),\n",
       " [('AMD', 'MSFT'),\n",
       "  ('AMD', 'QCOM'),\n",
       "  ('IBM', 'MSFT'),\n",
       "  ('IBM', 'ORCL'),\n",
       "  ('IBM', 'QCOM'),\n",
       "  ('IBM', 'VOO'),\n",
       "  ('JNPR', 'ORCL'),\n",
       "  ('ORCL', 'VOO')])"
      ]
     },
     "execution_count": 23,
     "metadata": {},
     "output_type": "execute_result"
    }
   ],
   "source": [
    "find_cointegrated_pairs(df)"
   ]
  },
  {
   "attachments": {},
   "cell_type": "markdown",
   "metadata": {},
   "source": [
    "Now we will create a Pandas Dataframe to store all of the Cointegration values and the Correlations values. We have the option to store each pair twice or once in order to create iteration through the information easier for post-processing. "
   ]
  },
  {
   "cell_type": "code",
   "execution_count": null,
   "metadata": {},
   "outputs": [],
   "source": []
  }
 ],
 "metadata": {
  "kernelspec": {
   "display_name": "base",
   "language": "python",
   "name": "python3"
  },
  "language_info": {
   "codemirror_mode": {
    "name": "ipython",
    "version": 3
   },
   "file_extension": ".py",
   "mimetype": "text/x-python",
   "name": "python",
   "nbconvert_exporter": "python",
   "pygments_lexer": "ipython3",
   "version": "3.9.12"
  },
  "orig_nbformat": 4,
  "vscode": {
   "interpreter": {
    "hash": "62e98a0283692a44636a450e29e7c259bf8dda78633caf01026f07cf76ab36ca"
   }
  }
 },
 "nbformat": 4,
 "nbformat_minor": 2
}
